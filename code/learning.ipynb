{
 "cells": [
  {
   "cell_type": "markdown",
   "id": "660f7984-4ebf-4ab6-9b6f-c2ee396d8003",
   "metadata": {},
   "source": [
    "# Learning phase"
   ]
  },
  {
   "cell_type": "code",
   "execution_count": 1,
   "id": "5e9a73ca-3bb7-4255-b8bb-7707da1236be",
   "metadata": {},
   "outputs": [],
   "source": [
    "import pandas as pd\n",
    "import numpy as np\n",
    "import matplotlib.pyplot as plt\n",
    "import seaborn as sns\n",
    "from utils import *"
   ]
  },
  {
   "cell_type": "code",
   "execution_count": 3,
   "id": "edfda03b-9ccd-4c6b-a37b-46fbe9afe122",
   "metadata": {},
   "outputs": [
    {
     "data": {
      "text/html": [
       "<div>\n",
       "<style scoped>\n",
       "    .dataframe tbody tr th:only-of-type {\n",
       "        vertical-align: middle;\n",
       "    }\n",
       "\n",
       "    .dataframe tbody tr th {\n",
       "        vertical-align: top;\n",
       "    }\n",
       "\n",
       "    .dataframe thead th {\n",
       "        text-align: right;\n",
       "    }\n",
       "</style>\n",
       "<table border=\"1\" class=\"dataframe\">\n",
       "  <thead>\n",
       "    <tr style=\"text-align: right;\">\n",
       "      <th></th>\n",
       "      <th>GAME_ID</th>\n",
       "      <th>TEAM_ID</th>\n",
       "      <th>PLAYER_ID</th>\n",
       "      <th>FG3M</th>\n",
       "      <th>OPPOSING_TEAM</th>\n",
       "      <th>LOCATION</th>\n",
       "      <th>SEASON</th>\n",
       "    </tr>\n",
       "  </thead>\n",
       "  <tbody>\n",
       "    <tr>\n",
       "      <th>0</th>\n",
       "      <td>22200477</td>\n",
       "      <td>1610612759</td>\n",
       "      <td>1629641</td>\n",
       "      <td>0.0</td>\n",
       "      <td>1610612740</td>\n",
       "      <td>Away</td>\n",
       "      <td>2022</td>\n",
       "    </tr>\n",
       "    <tr>\n",
       "      <th>1</th>\n",
       "      <td>22200477</td>\n",
       "      <td>1610612759</td>\n",
       "      <td>1631110</td>\n",
       "      <td>2.0</td>\n",
       "      <td>1610612740</td>\n",
       "      <td>Away</td>\n",
       "      <td>2022</td>\n",
       "    </tr>\n",
       "    <tr>\n",
       "      <th>2</th>\n",
       "      <td>22200477</td>\n",
       "      <td>1610612759</td>\n",
       "      <td>1627751</td>\n",
       "      <td>0.0</td>\n",
       "      <td>1610612740</td>\n",
       "      <td>Away</td>\n",
       "      <td>2022</td>\n",
       "    </tr>\n",
       "    <tr>\n",
       "      <th>3</th>\n",
       "      <td>22200477</td>\n",
       "      <td>1610612759</td>\n",
       "      <td>1630170</td>\n",
       "      <td>1.0</td>\n",
       "      <td>1610612740</td>\n",
       "      <td>Away</td>\n",
       "      <td>2022</td>\n",
       "    </tr>\n",
       "    <tr>\n",
       "      <th>4</th>\n",
       "      <td>22200477</td>\n",
       "      <td>1610612759</td>\n",
       "      <td>1630200</td>\n",
       "      <td>1.0</td>\n",
       "      <td>1610612740</td>\n",
       "      <td>Away</td>\n",
       "      <td>2022</td>\n",
       "    </tr>\n",
       "  </tbody>\n",
       "</table>\n",
       "</div>"
      ],
      "text/plain": [
       "    GAME_ID     TEAM_ID  PLAYER_ID  FG3M  OPPOSING_TEAM LOCATION  SEASON\n",
       "0  22200477  1610612759    1629641   0.0     1610612740     Away    2022\n",
       "1  22200477  1610612759    1631110   2.0     1610612740     Away    2022\n",
       "2  22200477  1610612759    1627751   0.0     1610612740     Away    2022\n",
       "3  22200477  1610612759    1630170   1.0     1610612740     Away    2022\n",
       "4  22200477  1610612759    1630200   1.0     1610612740     Away    2022"
      ]
     },
     "execution_count": 3,
     "metadata": {},
     "output_type": "execute_result"
    }
   ],
   "source": [
    "games_details = pd.read_csv('../dataset/complete_dataset.csv', low_memory=False)\n",
    "cols_to_drop = [col for col in games_details.columns if -1 in games_details[col].values]\n",
    "games_details.drop(columns = cols_to_drop, inplace=True)\n",
    "games_details.head()"
   ]
  },
  {
   "cell_type": "code",
   "execution_count": 4,
   "id": "f7ff896e-d9d4-4911-a1db-183e5d8d1ba5",
   "metadata": {},
   "outputs": [],
   "source": [
    "from sklearn.preprocessing import LabelEncoder, StandardScaler\n",
    "# label encoder e non one-hot encoding per evitare di aumentare di molto\n",
    "# dimensionalità del dataset e perché le date e simili hanno effettivamente un ordine\n",
    "\n",
    "from sklearn.model_selection import KFold, GridSearchCV\n",
    "\n",
    "from sklearn.ensemble import RandomForestRegressor\n",
    "from sklearn.neighbors import KNeighborsRegressor\n",
    "from sklearn.dummy import DummyRegressor\n",
    "\n",
    "from sklearn.metrics import mean_absolute_error, mean_squared_error"
   ]
  },
  {
   "cell_type": "code",
   "execution_count": 5,
   "id": "442e106f-c67d-4b4f-a4cd-761b52bff43e",
   "metadata": {},
   "outputs": [],
   "source": [
    "games_details = games_details.drop(columns=['GAME_ID'])\n",
    "games_details = games_details.sample(frac=0.1)\n",
    "\n",
    "categorical_columns = games_details.select_dtypes(include=['object']).columns\n",
    "label_encoder = LabelEncoder()\n",
    "games_details[list(categorical_columns)] = games_details[list(categorical_columns)].apply(label_encoder.fit_transform)\n",
    "\n",
    "games_details = games_details.dropna()\n",
    "games_details = games_details.reset_index(drop=True)\n",
    "\n",
    "X = games_details.loc[:, games_details.columns != 'FG3M']\n",
    "y = games_details['FG3M']\n",
    "\n",
    "reg_metrics = pd.DataFrame(columns=['Model', 'MAE', 'MSE'])"
   ]
  },
  {
   "cell_type": "code",
   "execution_count": 6,
   "id": "77490cf7",
   "metadata": {},
   "outputs": [
    {
     "name": "stdout",
     "output_type": "stream",
     "text": [
      "{'max_features': 'sqrt', 'n_estimators': 500}\n"
     ]
    }
   ],
   "source": [
    "num_folds = 8\n",
    "\n",
    "num_features = X.shape[1]\n",
    "p = int(np.ceil(num_features / 3))\n",
    "rf_param_grid = {\n",
    "    'n_estimators': [50, 100, 500],\n",
    "    'max_features': ['sqrt', 'log2', p] \n",
    "}\n",
    "\n",
    "rf_regressor = RandomForestRegressor()\n",
    "scaler1 = StandardScaler()\n",
    "X_scaled = scaler1.fit_transform(X) # questo non sarebbe legittimo\n",
    "\n",
    "grid_search = GridSearchCV(rf_regressor, rf_param_grid, cv=num_folds, scoring='neg_mean_squared_error')\n",
    "grid_search.fit(X, y)\n",
    "\n",
    "rf_best_params = grid_search.best_params_\n",
    "print(rf_best_params)"
   ]
  },
  {
   "cell_type": "code",
   "execution_count": 7,
   "id": "37887c63-f054-4504-97ca-9a0fea2a8a79",
   "metadata": {},
   "outputs": [],
   "source": [
    "rf_kfolds = KFold(n_splits=num_folds, shuffle=True)\n",
    "gini_importances = pd.DataFrame(columns=X.columns)\n",
    "\n",
    "for fold, (train_idx, test_idx) in enumerate(rf_kfolds.split(X)):\n",
    "\n",
    "    X_train, X_test = X.iloc[train_idx], X.iloc[test_idx]\n",
    "    y_train, y_test = y.iloc[train_idx], y.iloc[test_idx]\n",
    "    \n",
    "    scaler = StandardScaler()\n",
    "    X_train = scaler.fit_transform(X_train)\n",
    "    X_test = scaler.transform(X_test)\n",
    "    \n",
    "    rf_regressor = RandomForestRegressor(n_estimators = rf_best_params['n_estimators'], max_features = rf_best_params['max_features'])\n",
    "    \n",
    "    rf_regressor.fit(X_train, y_train)\n",
    "    \n",
    "    y_pred = rf_regressor.predict(X_test)\n",
    "    \n",
    "    current_rf_mae = mean_absolute_error(y_test, y_pred)\n",
    "    current_rf_mse = mean_squared_error(y_test, y_pred)\n",
    "    \n",
    "    reg_metrics.loc[len(reg_metrics)] = ['RF', current_rf_mae, current_rf_mse]\n",
    "\n",
    "    importances = rf_regressor.feature_importances_\n",
    "    gini_importances.loc[fold] = importances"
   ]
  },
  {
   "cell_type": "code",
   "execution_count": 8,
   "id": "e32be54a-11e4-41ba-b1c6-22486ef3ab7c",
   "metadata": {},
   "outputs": [],
   "source": [
    "dummy_kfolds = KFold(n_splits=num_folds, shuffle=True)\n",
    "\n",
    "for train_idx, test_idx in dummy_kfolds.split(X):\n",
    "    \n",
    "    X_train, X_test = X.iloc[train_idx], X.iloc[test_idx]\n",
    "    y_train, y_test = y.iloc[train_idx], y.iloc[test_idx]\n",
    "\n",
    "    scaler = StandardScaler()\n",
    "    X_train = scaler.fit_transform(X_train)\n",
    "    X_test = scaler.transform(X_test)\n",
    "    \n",
    "    dummy_regressor = DummyRegressor()\n",
    "    dummy_regressor.fit(X_train, y_train)\n",
    "    \n",
    "    y_dummy_pred = dummy_regressor.predict(X_test)\n",
    "\n",
    "    current_dummy_mae = mean_absolute_error(y_test, y_dummy_pred)\n",
    "    current_dummy_mse = mean_squared_error(y_test, y_dummy_pred)\n",
    "\n",
    "    reg_metrics.loc[len(reg_metrics)] = ['DUMMY', current_dummy_mae, current_dummy_mse]"
   ]
  },
  {
   "cell_type": "code",
   "execution_count": 9,
   "id": "afa8254d-160f-491d-827c-7d38e6c46a4b",
   "metadata": {},
   "outputs": [
    {
     "name": "stdout",
     "output_type": "stream",
     "text": [
      "{'n_neighbors': 10, 'p': 1}\n"
     ]
    }
   ],
   "source": [
    "knn_param_grid = {\n",
    "    'n_neighbors': [1, 5, 10],\n",
    "    'p': [1, 2]\n",
    "}\n",
    "\n",
    "knn_regressor = KNeighborsRegressor()\n",
    "\n",
    "grid_search = GridSearchCV(knn_regressor, knn_param_grid, cv=num_folds, scoring='neg_mean_squared_error')\n",
    "grid_search.fit(X_scaled, y)\n",
    "\n",
    "knn_best_params = grid_search.best_params_\n",
    "print(knn_best_params)"
   ]
  },
  {
   "cell_type": "code",
   "execution_count": 10,
   "id": "20db47f5-d0c3-4de9-bdfd-70964b8b260d",
   "metadata": {},
   "outputs": [],
   "source": [
    "knn_kfolds = KFold(n_splits=num_folds, shuffle=True)\n",
    "\n",
    "for train_idx, test_idx in knn_kfolds.split(X):\n",
    "    X_train, X_test = X.iloc[train_idx], X.iloc[test_idx]\n",
    "    y_train, y_test = y.iloc[train_idx], y.iloc[test_idx]\n",
    "    \n",
    "    scaler = StandardScaler()\n",
    "    X_train = scaler.fit_transform(X_train)\n",
    "    X_test = scaler.transform(X_test)\n",
    "    \n",
    "    knn_regressor = KNeighborsRegressor(n_neighbors = knn_best_params['n_neighbors'], p = knn_best_params['p'])\n",
    "    knn_regressor.fit(X_train, y_train)\n",
    "    \n",
    "    y_pred = knn_regressor.predict(X_test)\n",
    "    \n",
    "    current_knn_mae = mean_absolute_error(y_test, y_pred)\n",
    "    current_knn_mse = mean_squared_error(y_test, y_pred)\n",
    "    \n",
    "    reg_metrics.loc[len(reg_metrics)] = ['KNN', current_knn_mae, current_knn_mse]"
   ]
  },
  {
   "cell_type": "code",
   "execution_count": 11,
   "id": "227b5138-1a3b-41b3-b31f-54639487d11b",
   "metadata": {},
   "outputs": [
    {
     "name": "stdout",
     "output_type": "stream",
     "text": [
      "    Model       MAE       MSE\n",
      "0      RF  0.806005  1.273774\n",
      "1      RF  0.811442  1.323882\n",
      "2      RF  0.794527  1.249118\n",
      "3      RF  0.808247  1.270466\n",
      "4      RF  0.801017  1.270713\n",
      "5      RF  0.782284  1.253707\n",
      "6      RF  0.809379  1.316990\n",
      "7      RF  0.792429  1.233862\n",
      "8   DUMMY  0.932639  1.532237\n",
      "9   DUMMY  0.929964  1.522596\n",
      "10  DUMMY  0.927021  1.476485\n",
      "11  DUMMY  0.935739  1.508720\n",
      "12  DUMMY  0.940653  1.554497\n",
      "13  DUMMY  0.946490  1.546013\n",
      "14  DUMMY  0.924129  1.479253\n",
      "15  DUMMY  0.939674  1.555291\n",
      "16    KNN  0.916502  1.547182\n",
      "17    KNN  0.929798  1.602569\n",
      "18    KNN  0.935437  1.576466\n",
      "19    KNN  0.930156  1.588398\n",
      "20    KNN  0.927641  1.611622\n",
      "21    KNN  0.941597  1.612448\n",
      "22    KNN  0.939665  1.642658\n",
      "23    KNN  0.924549  1.530242\n"
     ]
    },
    {
     "data": {
      "image/png": "[encoded data removed]",
      "text/plain": [
       "<Figure size 1200x400 with 2 Axes>"
      ]
     },
     "metadata": {},
     "output_type": "display_data"
    }
   ],
   "source": [
    "print(reg_metrics)\n",
    "fig, axs = plt.subplots(1, 2, figsize= (12, 4))\n",
    "sns.boxplot(data=reg_metrics, x=\"MAE\", y=\"Model\", hue = 'Model', ax=axs[0], palette=sns.color_palette('Paired')[1::2])\n",
    "sns.boxplot(data=reg_metrics, x=\"MSE\", y=\"Model\", hue = 'Model', ax=axs[1], palette=sns.color_palette('Paired')[1::2])\n",
    "axs[1].set_yticklabels('')\n",
    "axs[1].set_ylabel('')\n",
    "plt.tight_layout()\n",
    "plt.show()"
   ]
  },
  {
   "cell_type": "code",
   "execution_count": 12,
   "id": "a019ba04-1a1e-4cdb-9123-821beda70e6f",
   "metadata": {},
   "outputs": [
    {
     "name": "stdout",
     "output_type": "stream",
     "text": [
      "    TEAM_ID  PLAYER_ID  OPPOSING_TEAM  LOCATION    SEASON\n",
      "0  0.168605   0.396567       0.267689  0.039624  0.127515\n",
      "1  0.177518   0.377153       0.273609  0.041480  0.130240\n",
      "2  0.179192   0.377109       0.272213  0.041493  0.129993\n",
      "3  0.176787   0.376472       0.273139  0.041619  0.131983\n",
      "4  0.177402   0.375341       0.275402  0.040690  0.131165\n",
      "5  0.168572   0.396635       0.266771  0.040471  0.127552\n",
      "6  0.180535   0.375026       0.276129  0.040530  0.127780\n",
      "7  0.178532   0.374638       0.274558  0.041188  0.131084\n"
     ]
    },
    {
     "data": {
      "image/png": "[encoded data removed]",
      "text/plain": [
       "<Figure size 1000x600 with 1 Axes>"
      ]
     },
     "metadata": {},
     "output_type": "display_data"
    }
   ],
   "source": [
    "print(gini_importances)\n",
    "melted_gini = gini_importances.melt(var_name='Column')\n",
    "\n",
    "# Create boxplot with seaborn\n",
    "plt.figure(figsize=(10, 6))\n",
    "sns.boxplot(x='Column', y='value', data=melted_gini, hue='Column', palette='Set3')\n",
    "\n",
    "plt.title('Boxplot of Gini importances')\n",
    "plt.xlabel('Columns')\n",
    "plt.ylabel('Values')\n",
    "plt.legend(title='Column')\n",
    "plt.grid(True)\n",
    "plt.show()"
   ]
  }
 ],
 "metadata": {
  "kernelspec": {
   "display_name": "Python 3 (ipykernel)",
   "language": "python",
   "name": "python3"
  },
  "language_info": {
   "codemirror_mode": {
    "name": "ipython",
    "version": 3
   },
   "file_extension": ".py",
   "mimetype": "text/x-python",
   "name": "python",
   "nbconvert_exporter": "python",
   "pygments_lexer": "ipython3",
   "version": "3.9.13"
  }
 },
 "nbformat": 4,
 "nbformat_minor": 5
}
