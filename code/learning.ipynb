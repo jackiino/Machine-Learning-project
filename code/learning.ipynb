{
 "cells": [
  {
   "cell_type": "markdown",
   "id": "660f7984-4ebf-4ab6-9b6f-c2ee396d8003",
   "metadata": {},
   "source": [
    "# Learning phase"
   ]
  },
  {
   "cell_type": "code",
   "execution_count": 1,
   "id": "5e9a73ca-3bb7-4255-b8bb-7707da1236be",
   "metadata": {},
   "outputs": [],
   "source": [
    "import pandas as pd\n",
    "import numpy as np\n",
    "import matplotlib.pyplot as plt\n",
    "import seaborn as sns\n",
    "from utils import *"
   ]
  },
  {
   "cell_type": "code",
   "execution_count": 2,
   "id": "edfda03b-9ccd-4c6b-a37b-46fbe9afe122",
   "metadata": {},
   "outputs": [
    {
     "data": {
      "text/html": [
       "<div>\n",
       "<style scoped>\n",
       "    .dataframe tbody tr th:only-of-type {\n",
       "        vertical-align: middle;\n",
       "    }\n",
       "\n",
       "    .dataframe tbody tr th {\n",
       "        vertical-align: top;\n",
       "    }\n",
       "\n",
       "    .dataframe thead th {\n",
       "        text-align: right;\n",
       "    }\n",
       "</style>\n",
       "<table border=\"1\" class=\"dataframe\">\n",
       "  <thead>\n",
       "    <tr style=\"text-align: right;\">\n",
       "      <th></th>\n",
       "      <th>TEAM_ID</th>\n",
       "      <th>PLAYER_ID</th>\n",
       "      <th>FG3M</th>\n",
       "      <th>DATE_DIFF</th>\n",
       "      <th>OPPOSING_TEAM</th>\n",
       "      <th>WINRATE</th>\n",
       "      <th>AVERAGE_TRIPLES</th>\n",
       "      <th>LOCATION</th>\n",
       "      <th>SEASON</th>\n",
       "    </tr>\n",
       "  </thead>\n",
       "  <tbody>\n",
       "    <tr>\n",
       "      <th>0</th>\n",
       "      <td>1.610613e+09</td>\n",
       "      <td>2594.0</td>\n",
       "      <td>0.0</td>\n",
       "      <td>5.0</td>\n",
       "      <td>1610612748</td>\n",
       "      <td>0.333333</td>\n",
       "      <td>0.0</td>\n",
       "      <td>Home</td>\n",
       "      <td>2003.0</td>\n",
       "    </tr>\n",
       "    <tr>\n",
       "      <th>1</th>\n",
       "      <td>1.610613e+09</td>\n",
       "      <td>2223.0</td>\n",
       "      <td>0.0</td>\n",
       "      <td>5.0</td>\n",
       "      <td>1610612748</td>\n",
       "      <td>0.333333</td>\n",
       "      <td>0.0</td>\n",
       "      <td>Home</td>\n",
       "      <td>2003.0</td>\n",
       "    </tr>\n",
       "    <tr>\n",
       "      <th>2</th>\n",
       "      <td>1.610613e+09</td>\n",
       "      <td>2584.0</td>\n",
       "      <td>0.0</td>\n",
       "      <td>5.0</td>\n",
       "      <td>1610612748</td>\n",
       "      <td>0.333333</td>\n",
       "      <td>0.0</td>\n",
       "      <td>Home</td>\n",
       "      <td>2003.0</td>\n",
       "    </tr>\n",
       "    <tr>\n",
       "      <th>3</th>\n",
       "      <td>1.610613e+09</td>\n",
       "      <td>1890.0</td>\n",
       "      <td>1.0</td>\n",
       "      <td>4.0</td>\n",
       "      <td>1610612759</td>\n",
       "      <td>0.666667</td>\n",
       "      <td>0.0</td>\n",
       "      <td>Away</td>\n",
       "      <td>2003.0</td>\n",
       "    </tr>\n",
       "    <tr>\n",
       "      <th>4</th>\n",
       "      <td>1.610613e+09</td>\n",
       "      <td>2207.0</td>\n",
       "      <td>0.0</td>\n",
       "      <td>4.0</td>\n",
       "      <td>1610612759</td>\n",
       "      <td>0.666667</td>\n",
       "      <td>1.0</td>\n",
       "      <td>Away</td>\n",
       "      <td>2003.0</td>\n",
       "    </tr>\n",
       "  </tbody>\n",
       "</table>\n",
       "</div>"
      ],
      "text/plain": [
       "        TEAM_ID  PLAYER_ID  FG3M  DATE_DIFF  OPPOSING_TEAM   WINRATE  \\\n",
       "0  1.610613e+09     2594.0   0.0        5.0     1610612748  0.333333   \n",
       "1  1.610613e+09     2223.0   0.0        5.0     1610612748  0.333333   \n",
       "2  1.610613e+09     2584.0   0.0        5.0     1610612748  0.333333   \n",
       "3  1.610613e+09     1890.0   1.0        4.0     1610612759  0.666667   \n",
       "4  1.610613e+09     2207.0   0.0        4.0     1610612759  0.666667   \n",
       "\n",
       "   AVERAGE_TRIPLES LOCATION  SEASON  \n",
       "0              0.0     Home  2003.0  \n",
       "1              0.0     Home  2003.0  \n",
       "2              0.0     Home  2003.0  \n",
       "3              0.0     Away  2003.0  \n",
       "4              1.0     Away  2003.0  "
      ]
     },
     "execution_count": 2,
     "metadata": {},
     "output_type": "execute_result"
    }
   ],
   "source": [
    "games_details = pd.read_csv('../dataset/complete_dataset.csv', low_memory=False)\n",
    "rows_to_drop = games_details[games_details.isin([-1]).any(axis=1)].index\n",
    "games_details.drop(rows_to_drop, inplace=True)\n",
    "games_details = games_details.reset_index(drop=True)\n",
    "games_details.drop(columns=['GAME_ID', 'DATE'], inplace=True)\n",
    "games_details.head()"
   ]
  },
  {
   "cell_type": "code",
   "execution_count": 3,
   "id": "f7ff896e-d9d4-4911-a1db-183e5d8d1ba5",
   "metadata": {},
   "outputs": [],
   "source": [
    "from sklearn.preprocessing import LabelEncoder, StandardScaler\n",
    "# label encoder e non one-hot encoding per evitare di aumentare di molto\n",
    "# dimensionalità del dataset e perché le date e simili hanno effettivamente un ordine\n",
    "\n",
    "from sklearn.model_selection import KFold, GridSearchCV\n",
    "\n",
    "from sklearn.ensemble import RandomForestRegressor\n",
    "from sklearn.neighbors import KNeighborsRegressor\n",
    "from sklearn.dummy import DummyRegressor\n",
    "\n",
    "from sklearn.metrics import mean_absolute_error, mean_squared_error"
   ]
  },
  {
   "cell_type": "code",
   "execution_count": 4,
   "id": "442e106f-c67d-4b4f-a4cd-761b52bff43e",
   "metadata": {},
   "outputs": [],
   "source": [
    "games_details = games_details.sample(frac=0.1)\n",
    "\n",
    "categorical_columns = games_details.select_dtypes(include=['object']).columns\n",
    "label_encoder = LabelEncoder()\n",
    "games_details[list(categorical_columns)] = games_details[list(categorical_columns)].apply(label_encoder.fit_transform)\n",
    "\n",
    "games_details = games_details.dropna()\n",
    "games_details = games_details.reset_index(drop=True)\n",
    "\n",
    "X = games_details.loc[:, games_details.columns != 'FG3M']\n",
    "y = games_details['FG3M']\n",
    "\n",
    "reg_metrics = pd.DataFrame(columns=['Model', 'MAE', 'MSE', 'RMSE'])"
   ]
  },
  {
   "cell_type": "code",
   "execution_count": 5,
   "id": "77490cf7",
   "metadata": {},
   "outputs": [
    {
     "name": "stdout",
     "output_type": "stream",
     "text": [
      "{'max_features': 3, 'n_estimators': 500}\n"
     ]
    }
   ],
   "source": [
    "num_folds = 5\n",
    "n_jobs = -1\n",
    "\n",
    "num_features = X.shape[1]\n",
    "p = int(np.ceil(num_features / 3))\n",
    "rf_param_grid = {\n",
    "    'n_estimators': [50, 100, 500],\n",
    "    'max_features': ['sqrt', 'log2', p] \n",
    "}\n",
    "\n",
    "rf_regressor = RandomForestRegressor(n_jobs=n_jobs)\n",
    "scaler1 = StandardScaler()\n",
    "X_scaled = scaler1.fit_transform(X) # questo non sarebbe legittimo\n",
    "\n",
    "grid_search = GridSearchCV(rf_regressor, rf_param_grid, cv=num_folds, scoring='neg_mean_squared_error')\n",
    "grid_search.fit(X, y)\n",
    "\n",
    "rf_best_params = grid_search.best_params_\n",
    "print(rf_best_params)"
   ]
  },
  {
   "cell_type": "code",
   "execution_count": 6,
   "id": "37887c63-f054-4504-97ca-9a0fea2a8a79",
   "metadata": {},
   "outputs": [],
   "source": [
    "rf_kfolds = KFold(n_splits=num_folds, shuffle=True)\n",
    "gini_importances = pd.DataFrame(columns=X.columns)\n",
    "\n",
    "for fold, (train_idx, test_idx) in enumerate(rf_kfolds.split(X)):\n",
    "\n",
    "    X_train, X_test = X.iloc[train_idx], X.iloc[test_idx]\n",
    "    y_train, y_test = y.iloc[train_idx], y.iloc[test_idx]\n",
    "    \n",
    "    scaler = StandardScaler()\n",
    "    X_train = scaler.fit_transform(X_train)\n",
    "    X_test = scaler.transform(X_test)\n",
    "    \n",
    "    rf_regressor = RandomForestRegressor(n_estimators = rf_best_params['n_estimators'], max_features = rf_best_params['max_features'], n_jobs=n_jobs)\n",
    "    \n",
    "    rf_regressor.fit(X_train, y_train)\n",
    "    \n",
    "    y_pred = rf_regressor.predict(X_test)\n",
    "    \n",
    "    current_rf_mae = mean_absolute_error(y_test, y_pred)\n",
    "    current_rf_mse = mean_squared_error(y_test, y_pred)\n",
    "    current_rf_rmse = np.sqrt(current_rf_mse)\n",
    "    \n",
    "    reg_metrics.loc[len(reg_metrics)] = ['RF', current_rf_mae, current_rf_mse, current_rf_mse]\n",
    "\n",
    "    importances = rf_regressor.feature_importances_\n",
    "    gini_importances.loc[fold] = importances"
   ]
  },
  {
   "cell_type": "code",
   "execution_count": 7,
   "id": "e32be54a-11e4-41ba-b1c6-22486ef3ab7c",
   "metadata": {},
   "outputs": [],
   "source": [
    "dummy_kfolds = KFold(n_splits=num_folds, shuffle=True)\n",
    "\n",
    "for train_idx, test_idx in dummy_kfolds.split(X):\n",
    "    \n",
    "    X_train, X_test = X.iloc[train_idx], X.iloc[test_idx]\n",
    "    y_train, y_test = y.iloc[train_idx], y.iloc[test_idx]\n",
    "\n",
    "    scaler = StandardScaler()\n",
    "    X_train = scaler.fit_transform(X_train)\n",
    "    X_test = scaler.transform(X_test)\n",
    "    \n",
    "    dummy_regressor = DummyRegressor()\n",
    "    dummy_regressor.fit(X_train, y_train)\n",
    "    \n",
    "    y_dummy_pred = dummy_regressor.predict(X_test)\n",
    "\n",
    "    current_dummy_mae = mean_absolute_error(y_test, y_dummy_pred)\n",
    "    current_dummy_mse = mean_squared_error(y_test, y_dummy_pred)\n",
    "    current_dummy_rmse = np.sqrt(current_dummy_mse)\n",
    "\n",
    "    reg_metrics.loc[len(reg_metrics)] = ['DUMMY', current_dummy_mae, current_dummy_mse, current_dummy_rmse]"
   ]
  },
  {
   "cell_type": "code",
   "execution_count": 8,
   "id": "afa8254d-160f-491d-827c-7d38e6c46a4b",
   "metadata": {},
   "outputs": [
    {
     "name": "stdout",
     "output_type": "stream",
     "text": [
      "{'n_neighbors': 10, 'p': 1}\n"
     ]
    }
   ],
   "source": [
    "knn_param_grid = {\n",
    "    'n_neighbors': [1, 5, 10],\n",
    "    'p': [1, 2]\n",
    "}\n",
    "\n",
    "knn_regressor = KNeighborsRegressor()\n",
    "\n",
    "grid_search = GridSearchCV(knn_regressor, knn_param_grid, cv=num_folds, scoring='neg_mean_squared_error')\n",
    "grid_search.fit(X_scaled, y)\n",
    "\n",
    "knn_best_params = grid_search.best_params_\n",
    "print(knn_best_params)"
   ]
  },
  {
   "cell_type": "code",
   "execution_count": 9,
   "id": "20db47f5-d0c3-4de9-bdfd-70964b8b260d",
   "metadata": {},
   "outputs": [],
   "source": [
    "knn_kfolds = KFold(n_splits=num_folds, shuffle=True)\n",
    "\n",
    "for train_idx, test_idx in knn_kfolds.split(X):\n",
    "    X_train, X_test = X.iloc[train_idx], X.iloc[test_idx]\n",
    "    y_train, y_test = y.iloc[train_idx], y.iloc[test_idx]\n",
    "    \n",
    "    scaler = StandardScaler()\n",
    "    X_train = scaler.fit_transform(X_train)\n",
    "    X_test = scaler.transform(X_test)\n",
    "    \n",
    "    knn_regressor = KNeighborsRegressor(n_neighbors = knn_best_params['n_neighbors'], p = knn_best_params['p'])\n",
    "    knn_regressor.fit(X_train, y_train)\n",
    "    \n",
    "    y_pred = knn_regressor.predict(X_test)\n",
    "    \n",
    "    current_knn_mae = mean_absolute_error(y_test, y_pred)\n",
    "    current_knn_mse = mean_squared_error(y_test, y_pred)\n",
    "    current_knn_rmse = np.sqrt(current_knn_mse)\n",
    "    \n",
    "    reg_metrics.loc[len(reg_metrics)] = ['KNN', current_knn_mae, current_knn_mse, current_knn_rmse]"
   ]
  },
  {
   "cell_type": "code",
   "execution_count": 14,
   "id": "227b5138-1a3b-41b3-b31f-54639487d11b",
   "metadata": {},
   "outputs": [
    {
     "name": "stdout",
     "output_type": "stream",
     "text": [
      "    Model       MAE       MSE      RMSE\n",
      "0      RF  0.695365  1.134952  1.134952\n",
      "1      RF  0.690948  1.081462  1.081462\n",
      "2      RF  0.696166  1.126209  1.126209\n",
      "3      RF  0.674854  1.055111  1.055111\n",
      "4      RF  0.688016  1.086156  1.086156\n",
      "5   DUMMY  0.952692  1.572806  1.254116\n",
      "6   DUMMY  0.938073  1.512601  1.229878\n",
      "7   DUMMY  0.958062  1.605429  1.267055\n",
      "8   DUMMY  0.932529  1.474387  1.214243\n",
      "9   DUMMY  0.960377  1.657887  1.287589\n",
      "10    KNN  0.717141  1.222905  1.105851\n",
      "11    KNN  0.715542  1.187652  1.089794\n",
      "12    KNN  0.721363  1.204612  1.097548\n",
      "13    KNN  0.710658  1.185616  1.088860\n",
      "14    KNN  0.699035  1.134796  1.065268\n"
     ]
    },
    {
     "data": {
      "image/png": "[encoded data removed]",
      "text/plain": [
       "<Figure size 1200x400 with 3 Axes>"
      ]
     },
     "metadata": {},
     "output_type": "display_data"
    }
   ],
   "source": [
    "print(reg_metrics)\n",
    "fig, axs = plt.subplots(1, 3, figsize= (12, 4))\n",
    "sns.boxplot(data=reg_metrics, x=\"MAE\", y=\"Model\", hue = 'Model', ax=axs[0], palette=sns.color_palette('Paired')[1::2])\n",
    "sns.boxplot(data=reg_metrics, x=\"MSE\", y=\"Model\", hue = 'Model', ax=axs[1], palette=sns.color_palette('Paired')[1::2])\n",
    "sns.boxplot(data=reg_metrics, x=\"RMSE\", y=\"Model\", hue = 'Model', ax=axs[2], palette=sns.color_palette('Paired')[1::2])\n",
    "axs[1].set_yticklabels('')\n",
    "axs[1].set_ylabel('')\n",
    "plt.tight_layout()\n",
    "plt.show()"
   ]
  },
  {
   "cell_type": "code",
   "execution_count": 20,
   "id": "a019ba04-1a1e-4cdb-9123-821beda70e6f",
   "metadata": {},
   "outputs": [
    {
     "name": "stdout",
     "output_type": "stream",
     "text": [
      "    TEAM_ID  PLAYER_ID  DATE_DIFF  OPPOSING_TEAM   WINRATE  AVERAGE_TRIPLES  \\\n",
      "0  0.084293   0.124258   0.053895       0.122480  0.047890         0.461268   \n",
      "1  0.084221   0.124021   0.053743       0.122513  0.047590         0.462021   \n",
      "2  0.084361   0.124718   0.053694       0.122460  0.048617         0.460285   \n",
      "3  0.085055   0.125564   0.052941       0.123381  0.048649         0.458119   \n",
      "4  0.083949   0.124232   0.053269       0.122917  0.048170         0.459872   \n",
      "\n",
      "   LOCATION    SEASON  \n",
      "0  0.023419  0.082497  \n",
      "1  0.024748  0.081144  \n",
      "2  0.024569  0.081296  \n",
      "3  0.024357  0.081934  \n",
      "4  0.025104  0.082487  \n"
     ]
    },
    {
     "data": {
      "image/png": "[encoded data removed]",
      "text/plain": [
       "<Figure size 1100x600 with 1 Axes>"
      ]
     },
     "metadata": {},
     "output_type": "display_data"
    }
   ],
   "source": [
    "print(gini_importances)\n",
    "melted_gini = gini_importances.melt(var_name='Column')\n",
    "\n",
    "# Create boxplot with seaborn\n",
    "plt.figure(figsize=(11, 6))\n",
    "sns.boxplot(x='Column', y='value', data=melted_gini, hue='Column', palette='Set3')\n",
    "\n",
    "plt.title('Boxplot of Gini importances')\n",
    "plt.xlabel('Columns')\n",
    "plt.ylabel('Values')\n",
    "plt.legend(title='Column')\n",
    "plt.grid(True)\n",
    "plt.show()"
   ]
  },
  {
   "cell_type": "code",
   "execution_count": null,
   "id": "1aae5a43-c8a8-4811-8464-98a717ae12fe",
   "metadata": {},
   "outputs": [],
   "source": []
  }
 ],
 "metadata": {
  "kernelspec": {
   "display_name": "Python 3 (ipykernel)",
   "language": "python",
   "name": "python3"
  },
  "language_info": {
   "codemirror_mode": {
    "name": "ipython",
    "version": 3
   },
   "file_extension": ".py",
   "mimetype": "text/x-python",
   "name": "python",
   "nbconvert_exporter": "python",
   "pygments_lexer": "ipython3",
   "version": "3.10.14"
  }
 },
 "nbformat": 4,
 "nbformat_minor": 5
}
