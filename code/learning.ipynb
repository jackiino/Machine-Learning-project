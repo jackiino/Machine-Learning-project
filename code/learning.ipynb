{
 "cells": [
  {
   "cell_type": "markdown",
   "id": "660f7984-4ebf-4ab6-9b6f-c2ee396d8003",
   "metadata": {},
   "source": [
    "# Learning phase"
   ]
  },
  {
   "cell_type": "code",
   "execution_count": 1,
   "id": "5e9a73ca-3bb7-4255-b8bb-7707da1236be",
   "metadata": {},
   "outputs": [],
   "source": [
    "import pandas as pd\n",
    "import numpy as np\n",
    "import matplotlib.pyplot as plt\n",
    "import seaborn as sns\n",
    "from utils import *"
   ]
  },
  {
   "cell_type": "code",
   "execution_count": 2,
   "id": "edfda03b-9ccd-4c6b-a37b-46fbe9afe122",
   "metadata": {},
   "outputs": [
    {
     "data": {
      "text/html": [
       "<div>\n",
       "<style scoped>\n",
       "    .dataframe tbody tr th:only-of-type {\n",
       "        vertical-align: middle;\n",
       "    }\n",
       "\n",
       "    .dataframe tbody tr th {\n",
       "        vertical-align: top;\n",
       "    }\n",
       "\n",
       "    .dataframe thead th {\n",
       "        text-align: right;\n",
       "    }\n",
       "</style>\n",
       "<table border=\"1\" class=\"dataframe\">\n",
       "  <thead>\n",
       "    <tr style=\"text-align: right;\">\n",
       "      <th></th>\n",
       "      <th>TEAM_ID</th>\n",
       "      <th>PLAYER_ID</th>\n",
       "      <th>FG3M</th>\n",
       "      <th>DATE_DIFF</th>\n",
       "      <th>OPPOSING_TEAM</th>\n",
       "      <th>WINRATE</th>\n",
       "      <th>AVERAGE_TRIPLES</th>\n",
       "      <th>LOCATION</th>\n",
       "      <th>SEASON</th>\n",
       "    </tr>\n",
       "  </thead>\n",
       "  <tbody>\n",
       "    <tr>\n",
       "      <th>0</th>\n",
       "      <td>1.610613e+09</td>\n",
       "      <td>2594.0</td>\n",
       "      <td>0.0</td>\n",
       "      <td>5.0</td>\n",
       "      <td>1610612748</td>\n",
       "      <td>0.333333</td>\n",
       "      <td>0.0</td>\n",
       "      <td>Home</td>\n",
       "      <td>2003.0</td>\n",
       "    </tr>\n",
       "    <tr>\n",
       "      <th>1</th>\n",
       "      <td>1.610613e+09</td>\n",
       "      <td>2223.0</td>\n",
       "      <td>0.0</td>\n",
       "      <td>5.0</td>\n",
       "      <td>1610612748</td>\n",
       "      <td>0.333333</td>\n",
       "      <td>0.0</td>\n",
       "      <td>Home</td>\n",
       "      <td>2003.0</td>\n",
       "    </tr>\n",
       "    <tr>\n",
       "      <th>2</th>\n",
       "      <td>1.610613e+09</td>\n",
       "      <td>2584.0</td>\n",
       "      <td>0.0</td>\n",
       "      <td>5.0</td>\n",
       "      <td>1610612748</td>\n",
       "      <td>0.333333</td>\n",
       "      <td>0.0</td>\n",
       "      <td>Home</td>\n",
       "      <td>2003.0</td>\n",
       "    </tr>\n",
       "    <tr>\n",
       "      <th>3</th>\n",
       "      <td>1.610613e+09</td>\n",
       "      <td>1890.0</td>\n",
       "      <td>1.0</td>\n",
       "      <td>4.0</td>\n",
       "      <td>1610612759</td>\n",
       "      <td>0.666667</td>\n",
       "      <td>0.0</td>\n",
       "      <td>Away</td>\n",
       "      <td>2003.0</td>\n",
       "    </tr>\n",
       "    <tr>\n",
       "      <th>4</th>\n",
       "      <td>1.610613e+09</td>\n",
       "      <td>2207.0</td>\n",
       "      <td>0.0</td>\n",
       "      <td>4.0</td>\n",
       "      <td>1610612759</td>\n",
       "      <td>0.666667</td>\n",
       "      <td>1.0</td>\n",
       "      <td>Away</td>\n",
       "      <td>2003.0</td>\n",
       "    </tr>\n",
       "  </tbody>\n",
       "</table>\n",
       "</div>"
      ],
      "text/plain": [
       "        TEAM_ID  PLAYER_ID  FG3M  DATE_DIFF  OPPOSING_TEAM   WINRATE  \\\n",
       "0  1.610613e+09     2594.0   0.0        5.0     1610612748  0.333333   \n",
       "1  1.610613e+09     2223.0   0.0        5.0     1610612748  0.333333   \n",
       "2  1.610613e+09     2584.0   0.0        5.0     1610612748  0.333333   \n",
       "3  1.610613e+09     1890.0   1.0        4.0     1610612759  0.666667   \n",
       "4  1.610613e+09     2207.0   0.0        4.0     1610612759  0.666667   \n",
       "\n",
       "   AVERAGE_TRIPLES LOCATION  SEASON  \n",
       "0              0.0     Home  2003.0  \n",
       "1              0.0     Home  2003.0  \n",
       "2              0.0     Home  2003.0  \n",
       "3              0.0     Away  2003.0  \n",
       "4              1.0     Away  2003.0  "
      ]
     },
     "execution_count": 2,
     "metadata": {},
     "output_type": "execute_result"
    }
   ],
   "source": [
    "games_details = pd.read_csv('../dataset/complete_dataset.csv', low_memory=False)\n",
    "rows_to_drop = games_details[games_details.isin([-1]).any(axis=1)].index\n",
    "games_details.drop(rows_to_drop, inplace=True)\n",
    "games_details = games_details.reset_index(drop=True)\n",
    "games_details.drop(columns=['GAME_ID', 'DATE'], inplace=True)\n",
    "games_details.head()"
   ]
  },
  {
   "cell_type": "code",
   "execution_count": 3,
   "id": "f7ff896e-d9d4-4911-a1db-183e5d8d1ba5",
   "metadata": {},
   "outputs": [],
   "source": [
    "from sklearn.preprocessing import LabelEncoder, StandardScaler\n",
    "# label encoder e non one-hot encoding per evitare di aumentare di molto\n",
    "# dimensionalità del dataset e perché le date e simili hanno effettivamente un ordine\n",
    "\n",
    "from sklearn.model_selection import KFold, GridSearchCV\n",
    "\n",
    "from sklearn.ensemble import RandomForestRegressor\n",
    "from sklearn.neighbors import KNeighborsRegressor\n",
    "from sklearn.dummy import DummyRegressor\n",
    "\n",
    "from sklearn.metrics import mean_absolute_error, mean_squared_error"
   ]
  },
  {
   "cell_type": "code",
   "execution_count": 4,
   "id": "442e106f-c67d-4b4f-a4cd-761b52bff43e",
   "metadata": {},
   "outputs": [],
   "source": [
    "games_details = games_details.sample(frac=0.1)\n",
    "\n",
    "categorical_columns = games_details.select_dtypes(include=['object']).columns\n",
    "label_encoder = LabelEncoder()\n",
    "games_details[list(categorical_columns)] = games_details[list(categorical_columns)].apply(label_encoder.fit_transform)\n",
    "\n",
    "games_details = games_details.dropna()\n",
    "games_details = games_details.reset_index(drop=True)\n",
    "\n",
    "X = games_details.loc[:, games_details.columns != 'FG3M']\n",
    "y = games_details['FG3M']\n",
    "\n",
    "reg_metrics = pd.DataFrame(columns=['Model', 'MAE', 'MSE', 'RMSE'])"
   ]
  },
  {
   "cell_type": "code",
   "execution_count": 8,
   "id": "77490cf7",
   "metadata": {},
   "outputs": [
    {
     "name": "stdout",
     "output_type": "stream",
     "text": [
      "{'max_features': 3}\n"
     ]
    }
   ],
   "source": [
    "num_folds = 3\n",
    "n_jobs = -1\n",
    "n_estimators = 500\n",
    "\n",
    "num_features = X.shape[1]\n",
    "p = int(np.ceil(num_features / 3))\n",
    "rf_param_grid = {\n",
    "    'max_features': ['sqrt', 'log2', p]\n",
    "    \n",
    "}\n",
    "\n",
    "rf_regressor = RandomForestRegressor(n_estimators = n_estimators, n_jobs=n_jobs)\n",
    "scaler1 = StandardScaler()\n",
    "X_scaled = scaler1.fit_transform(X) # questo non sarebbe legittimo\n",
    "\n",
    "grid_search = GridSearchCV(rf_regressor, rf_param_grid, cv=num_folds, scoring='neg_mean_squared_error')\n",
    "grid_search.fit(X, y)\n",
    "\n",
    "rf_best_params = grid_search.best_params_\n",
    "print(rf_best_params)"
   ]
  },
  {
   "cell_type": "code",
   "execution_count": 9,
   "id": "37887c63-f054-4504-97ca-9a0fea2a8a79",
   "metadata": {},
   "outputs": [],
   "source": [
    "rf_kfolds = KFold(n_splits=num_folds, shuffle=True)\n",
    "gini_importances = pd.DataFrame(columns=X.columns)\n",
    "\n",
    "for fold, (train_idx, test_idx) in enumerate(rf_kfolds.split(X)):\n",
    "\n",
    "    X_train, X_test = X.iloc[train_idx], X.iloc[test_idx]\n",
    "    y_train, y_test = y.iloc[train_idx], y.iloc[test_idx]\n",
    "    \n",
    "    scaler = StandardScaler()\n",
    "    X_train = scaler.fit_transform(X_train)\n",
    "    X_test = scaler.transform(X_test)\n",
    "    \n",
    "    rf_regressor = RandomForestRegressor(n_estimators = n_estimators, max_features = rf_best_params['max_features'], n_jobs=n_jobs)\n",
    "    \n",
    "    rf_regressor.fit(X_train, y_train)\n",
    "    \n",
    "    y_pred = rf_regressor.predict(X_test)\n",
    "    \n",
    "    current_rf_mae = mean_absolute_error(y_test, y_pred)\n",
    "    current_rf_mse = mean_squared_error(y_test, y_pred)\n",
    "    current_rf_rmse = np.sqrt(current_rf_mse)\n",
    "    \n",
    "    reg_metrics.loc[len(reg_metrics)] = ['RF', current_rf_mae, current_rf_mse, current_rf_rmse]\n",
    "\n",
    "    importances = rf_regressor.feature_importances_\n",
    "    gini_importances.loc[fold] = importances"
   ]
  },
  {
   "cell_type": "code",
   "execution_count": 10,
   "id": "e32be54a-11e4-41ba-b1c6-22486ef3ab7c",
   "metadata": {},
   "outputs": [],
   "source": [
    "dummy_kfolds = KFold(n_splits=num_folds, shuffle=True)\n",
    "\n",
    "for train_idx, test_idx in dummy_kfolds.split(X):\n",
    "    \n",
    "    X_train, X_test = X.iloc[train_idx], X.iloc[test_idx]\n",
    "    y_train, y_test = y.iloc[train_idx], y.iloc[test_idx]\n",
    "\n",
    "    scaler = StandardScaler()\n",
    "    X_train = scaler.fit_transform(X_train)\n",
    "    X_test = scaler.transform(X_test)\n",
    "    \n",
    "    dummy_regressor = DummyRegressor()\n",
    "    dummy_regressor.fit(X_train, y_train)\n",
    "    \n",
    "    y_dummy_pred = dummy_regressor.predict(X_test)\n",
    "\n",
    "    current_dummy_mae = mean_absolute_error(y_test, y_dummy_pred)\n",
    "    current_dummy_mse = mean_squared_error(y_test, y_dummy_pred)\n",
    "    current_dummy_rmse = np.sqrt(current_dummy_mse)\n",
    "\n",
    "    reg_metrics.loc[len(reg_metrics)] = ['DUMMY', current_dummy_mae, current_dummy_mse, current_dummy_rmse]"
   ]
  },
  {
   "cell_type": "code",
   "execution_count": 11,
   "id": "afa8254d-160f-491d-827c-7d38e6c46a4b",
   "metadata": {},
   "outputs": [
    {
     "name": "stdout",
     "output_type": "stream",
     "text": [
      "{'n_neighbors': 10, 'p': 1}\n"
     ]
    }
   ],
   "source": [
    "knn_param_grid = {\n",
    "    'n_neighbors': [1, 5, 50, 150],\n",
    "    'p': [1, 2]\n",
    "}\n",
    "\n",
    "knn_regressor = KNeighborsRegressor()\n",
    "\n",
    "grid_search = GridSearchCV(knn_regressor, knn_param_grid, cv=num_folds, scoring='neg_mean_squared_error')\n",
    "grid_search.fit(X_scaled, y)\n",
    "\n",
    "knn_best_params = grid_search.best_params_\n",
    "print(knn_best_params)"
   ]
  },
  {
   "cell_type": "code",
   "execution_count": 12,
   "id": "20db47f5-d0c3-4de9-bdfd-70964b8b260d",
   "metadata": {},
   "outputs": [],
   "source": [
    "knn_kfolds = KFold(n_splits=num_folds, shuffle=True)\n",
    "\n",
    "for train_idx, test_idx in knn_kfolds.split(X):\n",
    "    X_train, X_test = X.iloc[train_idx], X.iloc[test_idx]\n",
    "    y_train, y_test = y.iloc[train_idx], y.iloc[test_idx]\n",
    "    \n",
    "    scaler = StandardScaler()\n",
    "    X_train = scaler.fit_transform(X_train)\n",
    "    X_test = scaler.transform(X_test)\n",
    "    \n",
    "    knn_regressor = KNeighborsRegressor(n_neighbors = knn_best_params['n_neighbors'], p = knn_best_params['p'])\n",
    "    knn_regressor.fit(X_train, y_train)\n",
    "    \n",
    "    y_pred = knn_regressor.predict(X_test)\n",
    "    \n",
    "    current_knn_mae = mean_absolute_error(y_test, y_pred)\n",
    "    current_knn_mse = mean_squared_error(y_test, y_pred)\n",
    "    current_knn_rmse = np.sqrt(current_knn_mse)\n",
    "    \n",
    "    reg_metrics.loc[len(reg_metrics)] = ['KNN', current_knn_mae, current_knn_mse, current_knn_rmse]"
   ]
  },
  {
   "cell_type": "code",
   "execution_count": 25,
   "id": "227b5138-1a3b-41b3-b31f-54639487d11b",
   "metadata": {},
   "outputs": [
    {
     "data": {
      "image/png": "[encoded data removed]",
      "text/plain": [
       "<Figure size 1500x300 with 3 Axes>"
      ]
     },
     "metadata": {},
     "output_type": "display_data"
    }
   ],
   "source": [
    "fig, axs = plt.subplots(1, 3, figsize= (15, 3))\n",
    "sns.boxplot(data=reg_metrics, x=\"MAE\", y=\"Model\", ax=axs[0], palette=sns.color_palette('Paired')[1::2])\n",
    "sns.boxplot(data=reg_metrics, x=\"MSE\", y=\"Model\", ax=axs[1], palette=sns.color_palette('Paired')[1::2])\n",
    "sns.boxplot(data=reg_metrics, x=\"RMSE\", y=\"Model\", ax=axs[2], palette=sns.color_palette('Paired')[1::2])\n",
    "axs[1].set_yticklabels('')\n",
    "axs[1].set_ylabel('')\n",
    "plt.tight_layout()\n",
    "plt.savefig('./images/errors.pdf')\n",
    "plt.show()\n",
    "\n",
    "\n",
    "# Adjust figsize if needed"
   ]
  },
  {
   "cell_type": "code",
   "execution_count": 26,
   "id": "75c70f8b-dde8-4c01-b7d3-3278c1b53a65",
   "metadata": {},
   "outputs": [
    {
     "data": {
      "text/html": [
       "<div>\n",
       "<style scoped>\n",
       "    .dataframe tbody tr th:only-of-type {\n",
       "        vertical-align: middle;\n",
       "    }\n",
       "\n",
       "    .dataframe tbody tr th {\n",
       "        vertical-align: top;\n",
       "    }\n",
       "\n",
       "    .dataframe thead th {\n",
       "        text-align: right;\n",
       "    }\n",
       "</style>\n",
       "<table border=\"1\" class=\"dataframe\">\n",
       "  <thead>\n",
       "    <tr style=\"text-align: right;\">\n",
       "      <th></th>\n",
       "      <th>Model</th>\n",
       "      <th>Mean MAE</th>\n",
       "      <th>Std MAE</th>\n",
       "      <th>Mean MSE</th>\n",
       "      <th>Std MSE</th>\n",
       "      <th>Mean RMSE</th>\n",
       "      <th>Std RMSE</th>\n",
       "    </tr>\n",
       "  </thead>\n",
       "  <tbody>\n",
       "    <tr>\n",
       "      <th>0</th>\n",
       "      <td>DUMMY</td>\n",
       "      <td>0.950974</td>\n",
       "      <td>0.003526</td>\n",
       "      <td>1.584492</td>\n",
       "      <td>0.024967</td>\n",
       "      <td>1.258740</td>\n",
       "      <td>0.009921</td>\n",
       "    </tr>\n",
       "    <tr>\n",
       "      <th>1</th>\n",
       "      <td>KNN</td>\n",
       "      <td>0.715553</td>\n",
       "      <td>0.005143</td>\n",
       "      <td>1.202664</td>\n",
       "      <td>0.024328</td>\n",
       "      <td>1.096623</td>\n",
       "      <td>0.011113</td>\n",
       "    </tr>\n",
       "    <tr>\n",
       "      <th>2</th>\n",
       "      <td>RF</td>\n",
       "      <td>0.692641</td>\n",
       "      <td>0.007765</td>\n",
       "      <td>1.108937</td>\n",
       "      <td>0.025136</td>\n",
       "      <td>1.108937</td>\n",
       "      <td>0.025136</td>\n",
       "    </tr>\n",
       "  </tbody>\n",
       "</table>\n",
       "</div>"
      ],
      "text/plain": [
       "   Model  Mean MAE   Std MAE  Mean MSE   Std MSE  Mean RMSE  Std RMSE\n",
       "0  DUMMY  0.950974  0.003526  1.584492  0.024967   1.258740  0.009921\n",
       "1    KNN  0.715553  0.005143  1.202664  0.024328   1.096623  0.011113\n",
       "2     RF  0.692641  0.007765  1.108937  0.025136   1.108937  0.025136"
      ]
     },
     "metadata": {},
     "output_type": "display_data"
    }
   ],
   "source": [
    "from pandas.plotting import table\n",
    "summary_errors = reg_metrics.groupby('Model').agg({'MAE': ['mean', 'std'],\n",
    "                                      'MSE': ['mean', 'std'],\n",
    "                                      'RMSE': ['mean', 'std']}).reset_index()\n",
    "\n",
    "summary_errors.columns = ['Model', 'Mean MAE', 'Std MAE', 'Mean MSE', 'Std MSE', 'Mean RMSE', 'Std RMSE']\n",
    "\n",
    "display(summary_df)"
   ]
  },
  {
   "cell_type": "code",
   "execution_count": 28,
   "id": "a019ba04-1a1e-4cdb-9123-821beda70e6f",
   "metadata": {},
   "outputs": [
    {
     "name": "stderr",
     "output_type": "stream",
     "text": [
      "No artists with labels found to put in legend.  Note that artists whose label start with an underscore are ignored when legend() is called with no argument.\n"
     ]
    },
    {
     "name": "stdout",
     "output_type": "stream",
     "text": [
      "    TEAM_ID  PLAYER_ID  DATE_DIFF  OPPOSING_TEAM   WINRATE  AVERAGE_TRIPLES  \\\n",
      "0  0.086756   0.124664   0.050840       0.122317  0.047727         0.460681   \n",
      "1  0.085683   0.121410   0.052904       0.123009  0.047856         0.458970   \n",
      "2  0.085573   0.120571   0.052181       0.120470  0.047490         0.465376   \n",
      "\n",
      "   LOCATION    SEASON  \n",
      "0  0.024132  0.082883  \n",
      "1  0.024676  0.085491  \n",
      "2  0.024904  0.083436  \n"
     ]
    },
    {
     "data": {
      "image/png": "[encoded data removed]",
      "text/plain": [
       "<Figure size 1200x500 with 1 Axes>"
      ]
     },
     "metadata": {},
     "output_type": "display_data"
    }
   ],
   "source": [
    "print(gini_importances)\n",
    "melted_gini = gini_importances.melt(var_name='Column')\n",
    "\n",
    "# Create boxplot with seaborn\n",
    "plt.figure(figsize=(12, 5))\n",
    "sns.boxplot(x='Column', y='value', data=melted_gini, palette='Set3')\n",
    "#sns.boxplot(x='Column', y='value', data=melted_gini, hue='Column', palette='Set3')\n",
    "\n",
    "plt.title('Boxplot of Gini importances')\n",
    "plt.xlabel('Columns')\n",
    "plt.ylabel('Values')\n",
    "plt.legend(title='Column')\n",
    "plt.grid(True)\n",
    "plt.show()"
   ]
  },
  {
   "cell_type": "code",
   "execution_count": 34,
   "id": "1aae5a43-c8a8-4811-8464-98a717ae12fe",
   "metadata": {},
   "outputs": [
    {
     "name": "stdout",
     "output_type": "stream",
     "text": [
      "            Column   Average  Standard Deviation\n",
      "0          TEAM_ID  0.086004            0.000653\n",
      "1        PLAYER_ID  0.122215            0.002162\n",
      "2        DATE_DIFF  0.051975            0.001047\n",
      "3    OPPOSING_TEAM  0.121932            0.001313\n",
      "4          WINRATE  0.047691            0.000186\n",
      "5  AVERAGE_TRIPLES  0.461676            0.003317\n",
      "6         LOCATION  0.024571            0.000397\n",
      "7           SEASON  0.083936            0.001374\n"
     ]
    }
   ],
   "source": [
    "summary_gini = gini_importances.agg(['mean', 'std']).transpose().reset_index()\n",
    "summary_gini.columns = ['Column', 'Average', 'Standard Deviation']\n",
    "print(summary_gini)"
   ]
  },
  {
   "cell_type": "code",
   "execution_count": null,
   "id": "b3dc2570-0984-49f0-b4cb-045ff317a90b",
   "metadata": {},
   "outputs": [],
   "source": []
  }
 ],
 "metadata": {
  "kernelspec": {
   "display_name": "Python 3 (ipykernel)",
   "language": "python",
   "name": "python3"
  },
  "language_info": {
   "codemirror_mode": {
    "name": "ipython",
    "version": 3
   },
   "file_extension": ".py",
   "mimetype": "text/x-python",
   "name": "python",
   "nbconvert_exporter": "python",
   "pygments_lexer": "ipython3",
   "version": "3.10.14"
  }
 },
 "nbformat": 4,
 "nbformat_minor": 5
}
