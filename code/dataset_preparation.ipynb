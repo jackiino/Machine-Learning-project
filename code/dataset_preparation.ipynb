{
 "cells": [
  {
   "cell_type": "code",
   "execution_count": null,
   "id": "4ace3562-c00a-4980-89c1-8f4e03477846",
   "metadata": {},
   "outputs": [],
   "source": [
    "import pandas as pd\n",
    "import numpy as np\n",
    "import matplotlib.pyplot as plt\n",
    "import seaborn as sns\n",
    "from utils import *"
   ]
  },
  {
   "cell_type": "markdown",
   "id": "446dcba2",
   "metadata": {},
   "source": [
    "# First Dataset: \"games_details.csv\""
   ]
  },
  {
   "cell_type": "markdown",
   "id": "60a19c27",
   "metadata": {},
   "source": [
    "Have a look to the Datasets, one at a time. Firstly, \"games_details.csv\"."
   ]
  },
  {
   "cell_type": "code",
   "execution_count": null,
   "id": "1eb63dc5",
   "metadata": {},
   "outputs": [],
   "source": [
    "games_details = pd.read_csv('../dataset/games_details.csv', low_memory=False)\n",
    "games_details.head()"
   ]
  },
  {
   "cell_type": "code",
   "execution_count": null,
   "id": "0c5e5e9a",
   "metadata": {},
   "outputs": [],
   "source": [
    "# ratio_missing_values prints the percentage of missing values in the column\n",
    "key1 = 'COMMENT'\n",
    "ratio_missing_values_column(games_details, key1)\n",
    "\n",
    "key2 = 'START_POSITION'\n",
    "ratio_missing_values_column(games_details, key2)"
   ]
  },
  {
   "cell_type": "markdown",
   "id": "38983976",
   "metadata": {},
   "source": [
    "'COMMENT': Since the number of valid values is very little wrt the size of the Dataset and there are not clear solutions to fill empty cells, we drop it.\n",
    "\n",
    "'START_POSITION': same thing."
   ]
  },
  {
   "cell_type": "markdown",
   "id": "138e57b5",
   "metadata": {},
   "source": [
    "Moreover, we drop all the columns we think could lead to information leakage and also all columns that we think are not useful in the training model, such as the Nickname of the player. Our cleaned Dataset is the following"
   ]
  },
  {
   "cell_type": "code",
   "execution_count": null,
   "id": "a306e3c4-96e2-4f65-ac9e-c2167296134b",
   "metadata": {},
   "outputs": [],
   "source": [
    "Weird_rows = games_details['GAME_ID'] == 10500109\n",
    "games_details = games_details[~Weird_rows]\n",
    "\n",
    "columns_to_drop = ['MIN','COMMENT', 'PLAYER_NAME', 'NICKNAME', 'START_POSITION', 'COMMENT', 'TEAM_CITY', 'TEAM_ABBREVIATION', 'FGA', 'FG_PCT', 'FGM', 'FG3A', 'FG3_PCT', 'FTM', 'FTA', 'FT_PCT', 'OREB', 'DREB', 'REB', 'AST', 'STL', 'BLK', 'TO', 'PF', 'PTS', 'PLUS_MINUS']\n",
    "games_details = games_details.drop(columns = columns_to_drop) # se non conta, si toglie. Altrimenti\n",
    "# modificarla cambia il risultato\n",
    "games_details = games_details.dropna()\n",
    "games_details = games_details.reset_index(drop=True)\n",
    "\n",
    "games_details.info()\n",
    "games_details.head()"
   ]
  },
  {
   "cell_type": "markdown",
   "id": "533ec61a",
   "metadata": {},
   "source": [
    "# Second Dataset: \"games.csv\""
   ]
  },
  {
   "cell_type": "markdown",
   "id": "875dbdc1",
   "metadata": {},
   "source": [
    "Now, pass to the second Dataset, which is \"games.csv\"."
   ]
  },
  {
   "cell_type": "code",
   "execution_count": null,
   "id": "3c968f4b",
   "metadata": {},
   "outputs": [],
   "source": [
    "games = pd.read_csv('../dataset/games.csv')\n",
    "games.head()"
   ]
  },
  {
   "cell_type": "markdown",
   "id": "9112a4c7-bd01-4d10-8443-da4326f0e8cc",
   "metadata": {},
   "source": [
    "Now we add some features: bla bla bla"
   ]
  },
  {
   "cell_type": "code",
   "execution_count": null,
   "id": "fdc14269-c091-4396-b5a6-ea5cdba2427c",
   "metadata": {},
   "outputs": [],
   "source": [
    "for j in games['GAME_DATE_EST']:\n",
    "    games['GAME_DATE_EST'] = games['GAME_DATE_EST'].replace(j,StringToDate(j))\n",
    "\n",
    "games = games.sort_values(by='GAME_DATE_EST',ascending=False)\n",
    "games = games.reset_index(drop=True)"
   ]
  },
  {
   "cell_type": "code",
   "execution_count": null,
   "id": "f3c6753c-43de-4190-9924-c22a030681e2",
   "metadata": {},
   "outputs": [],
   "source": [
    "teams = pd.read_csv('../dataset/teams.csv')\n",
    "teams.info()\n",
    "teams.head()"
   ]
  },
  {
   "cell_type": "markdown",
   "id": "44e7ac04",
   "metadata": {},
   "source": [
    "# Third Dataset: \"ranking.csv\"\n",
    "Aggiungere solo ultima partita della squadra avversaria e di quella del giocatore"
   ]
  },
  {
   "cell_type": "code",
   "execution_count": null,
   "id": "c26993b3-bb79-46c0-8e5e-1979bcf95fa2",
   "metadata": {},
   "outputs": [],
   "source": [
    "ranking = pd.read_csv('../dataset/ranking.csv')\n",
    "ranking.info()\n",
    "ranking = ranking.drop(columns=['LEAGUE_ID', 'RETURNTOPLAY']) # se soli zeri/NaN: rimosse\n",
    "ranking.head()"
   ]
  },
  {
   "cell_type": "markdown",
   "id": "35472166-9e23-406e-9d12-a6b01887762e",
   "metadata": {},
   "source": [
    "# Fourth Dataset: \"teams.csv\""
   ]
  },
  {
   "cell_type": "code",
   "execution_count": null,
   "id": "71f392bc-2ed6-43e7-b0a7-18f59410df31",
   "metadata": {},
   "outputs": [],
   "source": [
    "teams = teams.drop(columns=['LEAGUE_ID', 'MAX_YEAR', 'MIN_YEAR','ABBREVIATION','NICKNAME','YEARFOUNDED','CITY','ARENA','ARENACAPACITY','OWNER','GENERALMANAGER','HEADCOACH','DLEAGUEAFFILIATION'])"
   ]
  },
  {
   "cell_type": "code",
   "execution_count": null,
   "id": "c7a2dc5c-203f-4377-a3a9-7b8408419567",
   "metadata": {},
   "outputs": [],
   "source": [
    "# Computes 2D arrays for past games and winrates for each team\n",
    "\n",
    "gamesTeamPlayed = [] #2D array of game_id's\n",
    "gamesTeamDates = [] #2D array of distances from last game (when defined)\n",
    "gamesTeamWinrates = [] #2D array of winrates in the past 3 matches (when defined)\n",
    "for i in teams['TEAM_ID']:\n",
    "    gamesHome = games['HOME_TEAM_ID'] == i\n",
    "    gamesVisitor = games['VISITOR_TEAM_ID'] == i\n",
    "    gamesTeamI = [x or y for x, y in zip(gamesHome,gamesVisitor)]\n",
    "    tempGamesTeamPlayed = []\n",
    "    for l in range(len(gamesTeamI)):\n",
    "        if gamesTeamI[l]:\n",
    "            tempGamesTeamPlayed.append(games['GAME_ID'][l])\n",
    "    gamesTeamPlayed.append(tempGamesTeamPlayed)\n",
    "    indices = []\n",
    "    counter = 0\n",
    "    for j in gamesTeamI:\n",
    "        if j:\n",
    "            indices.append(counter)\n",
    "        counter = counter + 1\n",
    "    gamesTeamDates.append([games['GAME_DATE_EST'][j] for j in indices])\n",
    "    winrates = []\n",
    "    for k in range(len(indices)-1,-1,-1):\n",
    "        if len(indices)-1-k == 0:\n",
    "            winrates.append(-1)\n",
    "        elif len(indices)-1-k == 1:\n",
    "            home = 1 if (games['HOME_TEAM_ID'][indices[k+1]] == i) else 0\n",
    "            winrate = home*(games['HOME_TEAM_WINS'][indices[k+1]])+(1-home)*(1-games['HOME_TEAM_WINS'][indices[k+1]])\n",
    "            winrates.append(winrate)\n",
    "        elif len(indices)-1-k == 2:\n",
    "            home = 1 if (games['HOME_TEAM_ID'][indices[k+1]] == i) else 0\n",
    "            winrate = (home*(games['HOME_TEAM_WINS'][indices[k+1]])+(1-home)*(1-games['HOME_TEAM_WINS'][indices[k+1]]) + winrates[1])/2\n",
    "            winrates.append(winrate)\n",
    "        elif len(indices)-1-k >= 3:\n",
    "            home = 1 if (games['HOME_TEAM_ID'][indices[k+1]] == i) else 0\n",
    "            winrate = home*(games['HOME_TEAM_WINS'][indices[k+1]])+(1-home)*(1-games['HOME_TEAM_WINS'][indices[k+1]])\n",
    "            home = 1 if (games['HOME_TEAM_ID'][indices[k+2]] == i) else 0\n",
    "            winrate = winrate + home*(games['HOME_TEAM_WINS'][indices[k+2]])+(1-home)*(1-games['HOME_TEAM_WINS'][indices[k+2]])\n",
    "            home = 1 if (games['HOME_TEAM_ID'][indices[k+3]] == i) else 0\n",
    "            winrate = winrate + home*(games['HOME_TEAM_WINS'][indices[k+3]])+(1-home)*(1-games['HOME_TEAM_WINS'][indices[k+3]])\n",
    "            winrates.append(winrate/3)\n",
    "    winratesRev = []\n",
    "    for h in range(len(winrates)-1,-1,-1):\n",
    "        winratesRev.append(winrates[h])\n",
    "    gamesTeamWinrates.append(winratesRev)\n",
    "    \n",
    "\n",
    "        \n",
    "def DiffOppWin(game_id,team_id):\n",
    "    indGameId = games.index[games['GAME_ID'] == game_id].tolist()[0]\n",
    "    indTeamId = teams['TEAM_ID'].index[teams['TEAM_ID'] == team_id].tolist()[0]\n",
    "    date = games['GAME_DATE_EST'][indGameId]\n",
    "    dateId = gamesTeamDates[indTeamId].index(date)\n",
    "    diff = -1\n",
    "    if dateId == len(gamesTeamDates[indTeamId])-1:\n",
    "        diff = -1\n",
    "    else:\n",
    "        diff = (date - gamesTeamDates[indTeamId][gamesTeamDates[indTeamId].index(date)+1])\n",
    "    opposing = 0\n",
    "    if games['HOME_TEAM_ID'][indGameId] == team_id:\n",
    "        opposing = games['VISITOR_TEAM_ID'][indGameId]\n",
    "    else:\n",
    "        opposing = games['HOME_TEAM_ID'][indGameId]\n",
    "    winrate = gamesTeamWinrates[indTeamId][gamesTeamPlayed[indTeamId].index(game_id)]\n",
    "    return [diff, opposing, winrate]\n",
    "\n",
    "def RefinedWinrate(game_id,home_id,visitor_id): #This is meant to edit games, not games_details\n",
    "    indGameId = games.index[games['GAME_ID'] == game_id].tolist()[0]\n",
    "    indTeamId = teams['TEAM_ID'].index[teams['TEAM_ID'] == home_id].tolist()[0]\n",
    "    indOppTeamId = teams['TEAM_ID'].index[teams['TEAM_ID'] == visitor_id].tolist()[0]\n",
    "    previousGames1 = [gamesTeamPlayed[indTeamId][j] for j in range(gamesTeamPlayed[indTeamId].index(indGameId),len(gamesTeamPlayed[indTeamId]))]\n",
    "    previousGames2 = [gamesTeamPlayed[indOppTeamId][j] for j in range(gamesTeamPlayed[indOppTeamId].index(indGameId),len(gamesTeamPlayed[indOppTeamId]))]\n",
    "    commonGames = [id for id in previousGames1 if id in previousGames2]\n",
    "    if len(commonGames) == 0:\n",
    "        return -1\n",
    "    else:\n",
    "        wins = 0\n",
    "        for i in commonGames:\n",
    "            wins = wins + games['HOME_TEAM_WINS'][i]\n",
    "        wins = wins / len(commonGames)\n",
    "        return wins"
   ]
  },
  {
   "cell_type": "code",
   "execution_count": null,
   "id": "090aba0f-7db7-4d19-a58c-b737fd2da9f6",
   "metadata": {},
   "outputs": [],
   "source": [
    "# Adds a column with distance from the last game, winrate and opponent team for every entry in games_details (circa ?? minuti sul fisso, 20 sul portatile)\n",
    "\n",
    "games_details['DATE_DIFF'] = ''\n",
    "games_details['OPPOSING_TEAM'] = ''\n",
    "games_details['WINRATE'] = ''\n",
    "for i in range(len(games_details['DATE_DIFF'])):\n",
    "    games_details.loc[i,'DATE_DIFF'] = DiffOppWin(games_details['GAME_ID'][i],games_details['TEAM_ID'][i])[0]\n",
    "    games_details.loc[i,'OPPOSING_TEAM'] = DiffOppWin(games_details['GAME_ID'][i],games_details['TEAM_ID'][i])[1]\n",
    "    games_details.loc[i,'WINRATE'] = DiffOppWin(games_details['GAME_ID'][i],games_details['TEAM_ID'][i])[2]\n",
    "\n",
    "# Aggiungere qui le triplozze medie (usando il fatto che averageThreePointers è ordinato come game_details rispetto ad ogni giocatore)\n",
    "# RICORDARSI DI TOGLIERE LE RIGHE CON -1"
   ]
  },
  {
   "cell_type": "code",
   "execution_count": null,
   "id": "e430d909-c275-4cc5-9f38-679f88196857",
   "metadata": {},
   "outputs": [],
   "source": [
    "games_details.head(10)"
   ]
  },
  {
   "cell_type": "code",
   "execution_count": null,
   "id": "d0683047-5902-4249-a25c-038bfd3f1636",
   "metadata": {},
   "outputs": [],
   "source": [
    "print(games[games['GAME_STATUS_TEXT']=='Final'].equals(games)) # so no useful information, Final is the content of each cell\n",
    "games = games.drop(columns=['GAME_STATUS_TEXT'])\n",
    "\n",
    "games_details = complete_games_details(games_details, games)\n",
    "\n",
    "games_details['TEAM_ID'].astype(str)\n",
    "games_details['OPPOSING_TEAM_ID'].astype(str) # trasformare in stringhe nome così  da non lavorare\n",
    "# con numeri enormi vicini ma usare l'encoder e pace\n",
    "\n",
    "ratio_missing_values_df(games_details) # print percentage of rows in which there is at least one\n",
    "# missing value\n",
    "games_details = games_details.dropna() # drop all the rows with nans\n",
    "games_details = games_details.reset_index(drop=True) # adjust the indexing\n",
    "\n",
    "games_details.head()"
   ]
  },
  {
   "cell_type": "code",
   "execution_count": null,
   "id": "5d751986",
   "metadata": {},
   "outputs": [],
   "source": [
    "games_details = games_details.drop(columns=['OPPOSING_TEAM_ID'])\n",
    "games_details.head(30)"
   ]
  },
  {
   "cell_type": "code",
   "execution_count": null,
   "id": "a5c22172",
   "metadata": {},
   "outputs": [],
   "source": [
    "games_details.to_csv('../dataset/complete_dataset.csv', index=False)"
   ]
  },
  {
   "cell_type": "markdown",
   "id": "710c2fa1-a683-4915-9d1f-890c1c79f2b4",
   "metadata": {},
   "source": [
    "Looking the Dataset we can notice that some arena capacity values are missing. We've decided to fill it searching the values on google:\\\n",
    "-Smoothie King Center: 17,805 seats;\\\n",
    "-Barclays Center: 17.732 seats;\\\n",
    "-Wells Fargo Center: 20,318 seats;\\\n",
    "-Talking Stick Resort Arena: 17,071 seats;\n",
    "\n",
    "Moreover, Amway Center capcity seems to be wrong because its value is 0. So, we correct it:\\\n",
    "-Amway Center: 18,846 seats"
   ]
  },
  {
   "cell_type": "code",
   "execution_count": null,
   "id": "0cd4a08d-3c5a-4720-a32d-9c8179902191",
   "metadata": {},
   "outputs": [],
   "source": [
    "teams.loc[2, 'ARENACAPACITY'] = 17805.0\n",
    "teams.loc[12, 'ARENACAPACITY'] = 17732.0\n",
    "teams.loc[14, 'ARENACAPACITY'] = 18846.0\n",
    "teams.loc[16, 'ARENACAPACITY'] = 20318.0\n",
    "teams.loc[17, 'ARENACAPACITY'] = 17071.0"
   ]
  },
  {
   "cell_type": "markdown",
   "id": "f286cefe-eef7-4e16-a59a-537529396f9d",
   "metadata": {},
   "source": [
    "# Fifth Dataset: 'players.csv'"
   ]
  },
  {
   "cell_type": "code",
   "execution_count": null,
   "id": "3516da55-e238-46b9-9cb4-e86b6c2012f8",
   "metadata": {},
   "outputs": [],
   "source": [
    "players = pd.read_csv('../dataset/players.csv')\n",
    "players.info()\n",
    "players"
   ]
  }
 ],
 "metadata": {
  "kernelspec": {
   "display_name": "Python 3 (ipykernel)",
   "language": "python",
   "name": "python3"
  },
  "language_info": {
   "codemirror_mode": {
    "name": "ipython",
    "version": 3
   },
   "file_extension": ".py",
   "mimetype": "text/x-python",
   "name": "python",
   "nbconvert_exporter": "python",
   "pygments_lexer": "ipython3",
   "version": "3.10.14"
  }
 },
 "nbformat": 4,
 "nbformat_minor": 5
}
