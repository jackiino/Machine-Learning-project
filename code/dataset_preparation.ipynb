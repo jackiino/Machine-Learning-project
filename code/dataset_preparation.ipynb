{
 "cells": [
  {
   "cell_type": "code",
   "execution_count": null,
   "id": "4ace3562-c00a-4980-89c1-8f4e03477846",
   "metadata": {},
   "outputs": [],
   "source": [
    "import pandas as pd\n",
    "import numpy as np\n",
    "import matplotlib.pyplot as plt\n",
    "import seaborn as sns\n",
    "from utils import *"
   ]
  },
  {
   "cell_type": "markdown",
   "id": "994c993c-3fe2-426b-86eb-9c9f35c664bc",
   "metadata": {},
   "source": [
    "# First Dataset: 'players.csv'"
   ]
  },
  {
   "cell_type": "markdown",
   "id": "60a19c27",
   "metadata": {},
   "source": [
    "Have a look to the Datasets, one at a time."
   ]
  },
  {
   "cell_type": "code",
   "execution_count": null,
   "id": "3516da55-e238-46b9-9cb4-e86b6c2012f8",
   "metadata": {},
   "outputs": [],
   "source": [
    "players = pd.read_csv('../dataset/players.csv')\n",
    "players.info()\n",
    "players"
   ]
  },
  {
   "cell_type": "markdown",
   "id": "446dcba2",
   "metadata": {},
   "source": [
    "# Second Dataset: \"games_details.csv\""
   ]
  },
  {
   "cell_type": "code",
   "execution_count": null,
   "id": "1eb63dc5",
   "metadata": {},
   "outputs": [],
   "source": [
    "games_details = pd.read_csv('../dataset/games_details.csv', low_memory=False)\n",
    "games_details.head()"
   ]
  },
  {
   "cell_type": "markdown",
   "id": "35472166-9e23-406e-9d12-a6b01887762e",
   "metadata": {},
   "source": [
    "# Third Dataset: \"teams.csv\""
   ]
  },
  {
   "cell_type": "code",
   "execution_count": null,
   "id": "f3c6753c-43de-4190-9924-c22a030681e2",
   "metadata": {},
   "outputs": [],
   "source": [
    "teams = pd.read_csv('../dataset/teams.csv')\n",
    "teams.info()\n",
    "teams.head()"
   ]
  },
  {
   "cell_type": "markdown",
   "id": "62f41f11-d9ba-4c12-af21-bc2f32b220d3",
   "metadata": {},
   "source": [
    "Looking the Dataset we can notice that some arena capacity values are missing. We've decided to fill it searching the values on google:\\\n",
    "-Smoothie King Center: 17,805 seats;\\\n",
    "-Barclays Center: 17.732 seats;\\\n",
    "-Wells Fargo Center: 20,318 seats;\\\n",
    "-Talking Stick Resort Arena: 17,071 seats;\n",
    "\n",
    "Moreover, Amway Center capacity seems to be wrong because its value is 0. So, we correct it:\\\n",
    "-Amway Center: 18,846 seats"
   ]
  },
  {
   "cell_type": "code",
   "execution_count": null,
   "id": "0cd4a08d-3c5a-4720-a32d-9c8179902191",
   "metadata": {},
   "outputs": [],
   "source": [
    "teams.loc[2, 'ARENACAPACITY'] = 17805.0\n",
    "teams.loc[12, 'ARENACAPACITY'] = 17732.0\n",
    "teams.loc[14, 'ARENACAPACITY'] = 18846.0\n",
    "teams.loc[16, 'ARENACAPACITY'] = 20318.0\n",
    "teams.loc[17, 'ARENACAPACITY'] = 17071.0"
   ]
  },
  {
   "cell_type": "code",
   "execution_count": null,
   "id": "7a0a9283-3331-44cc-b20e-441f6ff53234",
   "metadata": {},
   "outputs": [],
   "source": [
    "teams = teams.drop(columns=['LEAGUE_ID', 'MAX_YEAR', 'MIN_YEAR','ABBREVIATION','NICKNAME','YEARFOUNDED','CITY','ARENA','ARENACAPACITY','OWNER','GENERALMANAGER','HEADCOACH','DLEAGUEAFFILIATION'])"
   ]
  },
  {
   "cell_type": "markdown",
   "id": "533ec61a",
   "metadata": {},
   "source": [
    "# Fourth Dataset: \"games.csv\""
   ]
  },
  {
   "cell_type": "code",
   "execution_count": null,
   "id": "3c968f4b",
   "metadata": {},
   "outputs": [],
   "source": [
    "games = pd.read_csv('../dataset/games.csv')\n",
    "games.head()"
   ]
  },
  {
   "cell_type": "markdown",
   "id": "44e7ac04",
   "metadata": {},
   "source": [
    "# Fifth Dataset: \"ranking.csv\"\n",
    "Aggiungere solo ultima partita della squadra avversaria e di quella del giocatore"
   ]
  },
  {
   "cell_type": "code",
   "execution_count": null,
   "id": "d4985c86-d29a-4bf7-a8f8-bd2ed2fcfaa2",
   "metadata": {},
   "outputs": [],
   "source": [
    "ranking = pd.read_csv('../dataset/ranking.csv')\n",
    "ranking = ranking.drop(columns=['LEAGUE_ID', 'RETURNTOPLAY']) # se soli zeri/NaN: rimosse"
   ]
  },
  {
   "cell_type": "markdown",
   "id": "156eedf2-e3ce-4a12-bbd9-3b1448290912",
   "metadata": {},
   "source": [
    "# Some dataset cleaning"
   ]
  },
  {
   "cell_type": "code",
   "execution_count": null,
   "id": "0c5e5e9a",
   "metadata": {},
   "outputs": [],
   "source": [
    "# Start by considering games_details\n",
    "\n",
    "# ratio_missing_values prints the percentage of missing values in the column\n",
    "key1 = 'COMMENT'\n",
    "ratio_missing_values_column(games_details, key1)\n",
    "\n",
    "key2 = 'START_POSITION'\n",
    "ratio_missing_values_column(games_details, key2)"
   ]
  },
  {
   "cell_type": "markdown",
   "id": "38983976",
   "metadata": {},
   "source": [
    "'COMMENT': Since the number of valid values is very little wrt the size of the Dataset and there are not clear solutions to fill empty cells, we drop it.\n",
    "\n",
    "'START_POSITION': same thing."
   ]
  },
  {
   "cell_type": "markdown",
   "id": "138e57b5",
   "metadata": {},
   "source": [
    "Moreover, we drop all the columns we think could lead to information leakage and also all columns that we think are not useful in the training model, such as the Nickname of the player. Our cleaned Dataset is the following"
   ]
  },
  {
   "cell_type": "code",
   "execution_count": null,
   "id": "a306e3c4-96e2-4f65-ac9e-c2167296134b",
   "metadata": {},
   "outputs": [],
   "source": [
    "Weird_rows = games_details['GAME_ID'] == 10500109\n",
    "games_details = games_details[~Weird_rows]\n",
    "\n",
    "columns_to_drop = ['MIN','COMMENT', 'PLAYER_NAME', 'NICKNAME', 'START_POSITION', 'COMMENT', 'TEAM_CITY', 'TEAM_ABBREVIATION', 'FGA', 'FG_PCT', 'FGM', 'FG3A', 'FG3_PCT', 'FTM', 'FTA', 'FT_PCT', 'OREB', 'DREB', 'REB', 'AST', 'STL', 'BLK', 'TO', 'PF', 'PTS', 'PLUS_MINUS']\n",
    "games_details = games_details.drop(columns = columns_to_drop) # se non conta, si toglie. Altrimenti\n",
    "# modificarla cambia il risultato\n",
    "games_details = games_details.dropna()\n",
    "games_details = games_details.reset_index(drop=True)\n",
    "\n",
    "games_details.info()\n",
    "games_details.head()"
   ]
  },
  {
   "cell_type": "code",
   "execution_count": null,
   "id": "fdc14269-c091-4396-b5a6-ea5cdba2427c",
   "metadata": {},
   "outputs": [],
   "source": [
    "# Perform some operations on games which will be used to add some columns to games_details\n",
    "for j in range(len(games['GAME_DATE_EST'])): \n",
    "    games.loc[j, 'GAME_DATE_EST'] = StringToDate(games.loc[j, 'GAME_DATE_EST'])\n",
    "\n",
    "games = games.sort_values(by='GAME_DATE_EST',ascending=False)\n",
    "games = games.reset_index(drop=True)"
   ]
  },
  {
   "cell_type": "code",
   "execution_count": null,
   "id": "93f7a405-b62c-42d5-999e-47ac567b2fba",
   "metadata": {},
   "outputs": [],
   "source": [
    "data = np.empty((30,6,1900)) #0 game_ids, #1 game dates, #2 won/loss, #3 counter, #4 difference between dates, #5 winrates\n",
    "data[:] = np.NaN\n",
    "\n",
    "data[:,2,0], data[:,3,0] = 0, 0\n",
    "\n",
    "for j in range(len(games)):\n",
    "    infoGame = games.loc[j,['GAME_ID','GAME_DATE_EST','HOME_TEAM_ID','VISITOR_TEAM_ID','HOME_TEAM_WINS']].tolist()\n",
    "    teamH = teams['TEAM_ID'].index[teams['TEAM_ID'].eq(infoGame[2])].tolist()[0]\n",
    "    teamV = teams['TEAM_ID'].index[teams['TEAM_ID'].eq(infoGame[3])].tolist()[0]\n",
    "    data[teamH,0,int(data[teamH,3,0])], data[teamH,1,int(data[teamH,3,0])], data[teamH,2,int(data[teamH,3,0])] = infoGame[0], infoGame[1], infoGame[4]\n",
    "    data[teamV,0,int(data[teamV,3,0])], data[teamV,1,int(data[teamV,3,0])], data[teamV,2,int(data[teamV,3,0])] = infoGame[0], infoGame[1], (1 - infoGame[4])\n",
    "    data[teamH,3,0] += 1\n",
    "    data[teamV,3,0] += 1\n",
    "\n",
    "for k in range(1897):\n",
    "    data[:,4,k] = data[:,1,k] - data[:,1,k+1]\n",
    "    data[:,5,k] = (data[:,2,k+1] + data[:,2,k+2] + data[:,2,k+3])/3"
   ]
  },
  {
   "cell_type": "code",
   "execution_count": null,
   "id": "c7a2dc5c-203f-4377-a3a9-7b8408419567",
   "metadata": {},
   "outputs": [],
   "source": [
    "# Add columns to games_details\n",
    "games_details['DATE'] = ''\n",
    "games_details['DATE_DIFF'] = ''\n",
    "games_details['OPPOSING_TEAM'] = ''\n",
    "games_details['WINRATE'] = ''\n",
    "\n",
    "num = 0\n",
    "for j in games_details['GAME_ID']:\n",
    "    gameIndex = games['GAME_ID'].index[games['GAME_ID'].eq(j)].tolist()[0]\n",
    "    team = games_details['TEAM_ID'][num]\n",
    "    teamIndex = teams['TEAM_ID'].index[teams['TEAM_ID'].eq(team)].tolist()[0]\n",
    "    if team == games.loc[gameIndex,'HOME_TEAM_ID']:\n",
    "        games_details.loc[num,'OPPOSING_TEAM'] = games.loc[gameIndex,'VISITOR_TEAM_ID']\n",
    "    else:\n",
    "        games_details.loc[num,'OPPOSING_TEAM'] = games.loc[gameIndex,'HOME_TEAM_ID']\n",
    "    games_details.loc[num,'DATE'] = games.loc[gameIndex,'GAME_DATE_EST']\n",
    "    dateIndex = np.where(data[teamIndex,0,:] == j)[0][0]\n",
    "    games_details.loc[num,'DATE_DIFF'] = data[teamIndex,4,dateIndex]\n",
    "    games_details.loc[num,'WINRATE'] = data[teamIndex,5,dateIndex]\n",
    "    num += 1"
   ]
  },
  {
   "cell_type": "code",
   "execution_count": null,
   "id": "c14ac8fa-75c7-459d-854d-969bf0479b81",
   "metadata": {},
   "outputs": [],
   "source": [
    "games_details = games_details.sort_values(by='DATE').reset_index(drop=True)\n",
    "games_details.loc[len(games_details),'FG3M'] = pd.NA\n",
    "games_details['AVERAGE_TRIPLES'] = ''"
   ]
  },
  {
   "cell_type": "code",
   "execution_count": null,
   "id": "f2b8cc91-75ec-44ec-a4c7-a1f1147af5eb",
   "metadata": {},
   "outputs": [],
   "source": [
    "lastGame = np.empty((2,len(players)))\n",
    "lastGame[0,:] = 558915\n",
    "lastGame[1,:] = 0\n",
    "\n",
    "for k in range(len(games_details)-1):\n",
    "    indicesList = players['PLAYER_ID'].index[players['PLAYER_ID'].eq(games_details.loc[k,'PLAYER_ID'])].tolist()\n",
    "    if not indicesList:\n",
    "        games_details.loc[k,'AVERAGE_TRIPLES'] = np.NaN\n",
    "    else:\n",
    "        playerIndex = indicesList[0]\n",
    "        if lastGame[1,playerIndex] <= 1:\n",
    "            games_details.loc[k,'AVERAGE_TRIPLES'] = games_details.loc[lastGame[0,playerIndex],'FG3M']\n",
    "        else:\n",
    "            games_details.loc[k,'AVERAGE_TRIPLES'] = (games_details.loc[lastGame[0,playerIndex],'FG3M'] + (lastGame[1,playerIndex]-1)*(games_details.loc[lastGame[0,playerIndex],'AVERAGE_TRIPLES']))/lastGame[1,playerIndex]\n",
    "        lastGame[0,playerIndex] = k\n",
    "        lastGame[1,playerIndex] += 1"
   ]
  },
  {
   "cell_type": "code",
   "execution_count": null,
   "id": "d0683047-5902-4249-a25c-038bfd3f1636",
   "metadata": {},
   "outputs": [],
   "source": [
    "print(games[games['GAME_STATUS_TEXT']=='Final'].equals(games)) # so no useful information, Final is the content of each cell\n",
    "games = games.drop(columns=['GAME_STATUS_TEXT'])\n",
    "\n",
    "games_details = complete_games_details(games_details, games)\n",
    "\n",
    "games_details['TEAM_ID'].astype(str)\n",
    "games_details['OPPOSING_TEAM'].astype(str) # trasformare in stringhe nome così  da non lavorare\n",
    "# con numeri enormi vicini ma usare l'encoder e pace\n",
    "\n",
    "ratio_missing_values_df(games_details) # print percentage of rows in which there is at least one\n",
    "# missing value\n",
    "games_details.dropna(inplace=True) # drop all the rows with nans\n",
    "games_details = games_details.reset_index(drop=True) # adjust the indexing\n",
    "\n",
    "games_details.head()"
   ]
  },
  {
   "cell_type": "code",
   "execution_count": null,
   "id": "cc1c989e-17d5-48cd-bd32-920c3e6ce35b",
   "metadata": {},
   "outputs": [],
   "source": [
    "games_details.to_csv('../dataset/complete_dataset.csv', index=False)"
   ]
  }
 ],
 "metadata": {
  "kernelspec": {
   "display_name": "Python 3 (ipykernel)",
   "language": "python",
   "name": "python3"
  },
  "language_info": {
   "codemirror_mode": {
    "name": "ipython",
    "version": 3
   },
   "file_extension": ".py",
   "mimetype": "text/x-python",
   "name": "python",
   "nbconvert_exporter": "python",
   "pygments_lexer": "ipython3",
   "version": "3.10.14"
  }
 },
 "nbformat": 4,
 "nbformat_minor": 5
}
